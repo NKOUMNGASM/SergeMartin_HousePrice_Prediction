{
 "cells": [
  {
   "cell_type": "code",
   "execution_count": null,
   "metadata": {},
   "outputs": [],
   "source": [
    "# impot HouseApartmentScraping class\n",
    "from collecting_data_from_url_properties import HouseApartmentScraping \n",
    "\n",
    "# to build a defaultdict\n",
    "from collections import defaultdict\n",
    "\n",
    "# to build the dataframe\n",
    "import pandas as pd \n",
    "\n",
    "# 3) store all data of properties into a defaultdict\n",
    "houses_apartments_dict = defaultdict(list)\n",
    "\n",
    "with open('../csv_files/houses_apartments_urls.csv', 'r') as file:\n",
    "    url = file.readline()\n",
    "    while url != \"\":\n",
    "        \n",
    "        houses_class = HouseApartmentScraping(url)\n",
    "        \n",
    "        houses_apartments_dict['Locality'].append(houses_class.locality)\n",
    "        houses_apartments_dict['Type of property'].append(houses_class.type_property)\n",
    "        houses_apartments_dict['Subtype of property'].append(houses_class.subtype)\n",
    "        houses_apartments_dict['Price'].append(houses_class.price)\n",
    "        houses_apartments_dict['Type of sale'].append(houses_class.type_sale)\n",
    "        houses_apartments_dict['Number of rooms'].append(houses_class.num_rooms)\n",
    "        houses_apartments_dict['Living surface area'].append(houses_class.area)\n",
    "        houses_apartments_dict['Kitchen'].append(houses_class.kitchen)\n",
    "        houses_apartments_dict['Furnished'].append(houses_class.furnished)\n",
    "        houses_apartments_dict['Open fire'].append(houses_class.fire)\n",
    "        houses_apartments_dict['Terrace'].append(houses_class.terrace_area)\n",
    "        houses_apartments_dict['Garden'].append(houses_class.garden_area)\n",
    "        houses_apartments_dict['Surface of the land'].append(houses_class.land)\n",
    "        houses_apartments_dict['Number of facades'].append(houses_class.num_facade)\n",
    "        houses_apartments_dict['Swimming pool'].append(houses_class.pool)\n",
    "        houses_apartments_dict['State of the building'].append(houses_class.state)\n",
    "\n",
    "        url = file.readline()\n",
    "\n",
    "# 3) We store all data to a csv file with dataframe.\n",
    "df = pd.DataFrame(houses_apartments_dict)\n",
    "df.to_csv('../csv_files/all_data_of_the_houses.csv')"
   ]
  }
 ],
 "metadata": {
  "kernelspec": {
   "display_name": "Python 3.10.7 ('immovenv': venv)",
   "language": "python",
   "name": "python3"
  },
  "language_info": {
   "name": "python",
   "version": "3.10.7"
  },
  "orig_nbformat": 4,
  "vscode": {
   "interpreter": {
    "hash": "b9817d8513e4d60fa14611fae15dcc1b255e7c8c68b25fdf6ffefd231d49f519"
   }
  }
 },
 "nbformat": 4,
 "nbformat_minor": 2
}

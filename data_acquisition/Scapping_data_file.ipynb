{
 "cells": [
  {
   "cell_type": "code",
   "execution_count": 1,
   "metadata": {},
   "outputs": [],
   "source": [
    "# Imporing required libraries\n",
    "from msilib.schema import Property\n",
    "import requests\n",
    "import re\n",
    "import selenium\n",
    "from bs4 import BeautifulSoup, BeautifulStoneSoup\n",
    "import json\n",
    "from selenium import webdriver\n",
    "from selenium.webdriver.common.keys import Keys\n",
    "from selenium.webdriver.common.by import By\n",
    "\n",
    "# driver = webdriver.Chrome(\"C:\\Users\\Admin\\Desktop\\REAL_ESTATE_PREDICTION\\SergeMartin_HousePrice_Prediction\\data_acquisition\\chromedriver.exe\")\n",
    "# driver.get (\"https://www.immoweb.be/nl/zoeken/huis/te-koop?countries=BE\")\n",
    "\n",
    "# # #assigning url\n",
    "headers = {'User-Agent': 'Mozilla/5.0 (Macintosh; Intel Mac OS X 10_10_1) AppleWebKit/537.36 (KHTML, like Gecko) Chrome/39.0.2171.95 Safari/537.36'}\n",
    "url = \"https://www.immoweb.be/nl/zoeken/huis/te-koop?countries=BE&priceType=SALE_PRICE&page=1&orderBy=relevance&gclid=Cj0KCQjw-fmZBhDtARIsAH6H8qjTKK4fMtFTGdZ8MLuXMXsZkgY9qfCZGz8AqwAO-e8qYmoK8WgHEqQaAhFgEALw_wcB\"\n",
    "\n",
    "#defining the get_property function to get  the property from the url\n",
    "def get_property(url):\n",
    "     req = requests.get(url, headers=headers)\n",
    "     content=req.content\n",
    "     soup=BeautifulSoup(content, \"html.parser\")\n",
    "     scripts = soup.findAll('script', type='text/javascript')\n",
    "     len(scripts)\n",
    "     #print(len(scripts))\n",
    "     property_dic = {} \n",
    "     for script in scripts:\n",
    "        text = script.text\n",
    "        if 'window.classified' in text:\n",
    "            text = text[text.find('{'): text.rfind(';')]\n",
    "            property_dic = json.loads(text)\n",
    "            #print(property_dic)\n",
    "            break\n",
    "    # new_dic = {'id': property_dic [\"id\", \"cluster\"] }\n",
    "    # print(new_dic)\n",
    "     return property_dic[\"property\"] # this dic contain info of all properties,\n",
    "   \n",
    "#Testing the above function on one web page\n",
    "property_dic=get_property(\"https://www.immoweb.be/nl/zoekertje/huis/te-koop/berloz/4257/10151895?searchId=633d5556493a0\")\n",
    "#print(property_dic)"
   ]
  },
  {
   "cell_type": "code",
   "execution_count": null,
   "metadata": {},
   "outputs": [],
   "source": []
  },
  {
   "cell_type": "code",
   "execution_count": 3,
   "metadata": {},
   "outputs": [
    {
     "name": "stderr",
     "output_type": "stream",
     "text": [
      "[WDM] - Downloading: 100%|██████████| 6.29M/6.29M [00:01<00:00, 6.06MB/s]\n",
      "C:\\Users\\Admin\\AppData\\Local\\Temp\\ipykernel_21332\\3871533204.py:3: DeprecationWarning: executable_path has been deprecated, please pass in a Service object\n",
      "  driver = webdriver.Chrome(ChromeDriverManager().install())\n"
     ]
    }
   ],
   "source": [
    "from selenium import webdriver\n",
    "from webdriver_manager.chrome import ChromeDriverManager\n",
    "driver = webdriver.Chrome(ChromeDriverManager().install())"
   ]
  },
  {
   "cell_type": "code",
   "execution_count": 4,
   "metadata": {},
   "outputs": [],
   "source": [
    "from parsel import Selector \n",
    "#Obtain 10000 url of houses with webdriver\n",
    "# driver = webdriver.Chrome(\"../chromedriver.exe\")\n",
    "# driver.get (\"https://www.immoweb.be/nl/zoeken/huis/te-koop?countries=BE\")\n",
    "# The url  \"houses_url\" list.\n",
    "# Iterate through all result pages (page) and get the url of each\n",
    "houses_url = [] \n",
    "for page in range(1, 334):\n",
    "    apikey = str(page)+'&orderBy=relevance'\n",
    "    url = 'https://www.immoweb.be/en/search/house/for-sale?countries=BE&page='+apikey\n",
    "    driver.implicitly_wait(10)\n",
    "    driver.get(url)\n",
    "    sel = Selector(text = driver.page_source) \n",
    "    # Store the xpath query of houses\n",
    "    xpath_houses = '//*[@id=\"main-content\"]/li//h2//a/@href'\n",
    "    \n",
    "    # Find nodes matching the xpath ``query`` and return the result\n",
    "    page_houses_url = sel.xpath(xpath_houses).extract()\n",
    "    \n",
    "    # Add each page url list to houses_url, like in a matrix.\n",
    "    houses_url.append(page_houses_url)\n",
    "\n",
    "# Store all houses urls in a csv file\n",
    "with open('C:/Users/Admin/Desktop/REAL_ESTATE_PREDICTION/SergeMartin_HousePrice_Prediction/data_acquisition/csv_files/houses_apartments_urls.csv', 'w') as file:\n",
    "    for page_url in houses_url:\n",
    "        for url in page_url:\n",
    "            file.write(url+'\\n')\n",
    "\n",
    "\n",
    "# The url of each appartment that resulted from the search will be stored in the \"houses_url\" list\n",
    "apartments_url = []\n",
    "for page in range(1, 334):\n",
    "    apikey = str(page)+'&orderBy=relevance'\n",
    "    url = 'https://www.immoweb.be/en/search/apartment/for-sale?countries=BE&page='+apikey\n",
    "    driver.implicitly_wait(10) \n",
    "    driver.get(url)\n",
    "    sel = Selector(text=driver.page_source) \n",
    "    xpath_apartments = '//*[@id=\"main-content\"]/li//h2//a/@href'\n",
    "    page_apartments_url = sel.xpath(xpath_apartments).extract()\n",
    "    apartments_url.append(page_apartments_url)\n",
    "# As with houses, store all appartments urls in the same csv file\n",
    "with open('C:/Users/Admin/Desktop/REAL_ESTATE_PREDICTION/SergeMartin_HousePrice_Prediction/data_acquisition/csv_files/houses_apartments_urls.csv', 'a') as file:\n",
    "    for page_url in apartments_url:\n",
    "        for url in page_url:\n",
    "            file.write(url+'\\n')\n"
   ]
  },
  {
   "cell_type": "code",
   "execution_count": null,
   "metadata": {},
   "outputs": [],
   "source": []
  },
  {
   "cell_type": "code",
   "execution_count": 25,
   "metadata": {},
   "outputs": [],
   "source": []
  },
  {
   "cell_type": "code",
   "execution_count": null,
   "metadata": {},
   "outputs": [],
   "source": []
  }
 ],
 "metadata": {
  "kernelspec": {
   "display_name": "Python 3.10.7 ('immovenv': venv)",
   "language": "python",
   "name": "python3"
  },
  "language_info": {
   "codemirror_mode": {
    "name": "ipython",
    "version": 3
   },
   "file_extension": ".py",
   "mimetype": "text/x-python",
   "name": "python",
   "nbconvert_exporter": "python",
   "pygments_lexer": "ipython3",
   "version": "3.10.7"
  },
  "orig_nbformat": 4,
  "vscode": {
   "interpreter": {
    "hash": "b9817d8513e4d60fa14611fae15dcc1b255e7c8c68b25fdf6ffefd231d49f519"
   }
  }
 },
 "nbformat": 4,
 "nbformat_minor": 2
}
